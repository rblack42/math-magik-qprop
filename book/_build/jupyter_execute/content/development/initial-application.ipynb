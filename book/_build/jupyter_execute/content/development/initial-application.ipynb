{
 "cells": [
  {
   "cell_type": "markdown",
   "id": "e9c7d542",
   "metadata": {},
   "source": [
    "# Initial Application"
   ]
  },
  {
   "cell_type": "markdown",
   "id": "b930b331",
   "metadata": {},
   "source": [
    "To get started with our development, we will build the smallest chunk of code we can, to just run the program.\n",
    "\n",
    "First, create a home for the code inside of the project directory. This new directory should have the same name as the project. Run this command while working in the top-level project directory:\n",
    "    \n",
    "```{code}\n",
    "mkdir mmqprop\n",
    "```\n",
    "\n",
    "Now, edit a new file inside of this new directory:\n",
    "\n",
    "\n",
    "\n",
    "```{code}\n",
    "vim mmqprop/__init__.py\n",
    "```\n",
    "\n",
    "This file will turn the directory into a *Python* package. Here is the code you need:\n",
    "\n",
    "mmqprop/__init.py:\n",
    "```{code}\n",
    "__version__ = '0.1.0'\n",
    "\n",
    "def version():\n",
    "    return __version__\n",
    "\n",
    "```\n",
    "\n",
    "This snippet establishes the version number for the project and sets up a way to fetch that number. We will set things up to update this number as the project development proceeds.\n"
   ]
  },
  {
   "cell_type": "markdown",
   "id": "18f2195c",
   "metadata": {},
   "source": [
    "Next, we set up another piece of code that will help us run the program. This file also lives in the **mmqprop** package directory:\n",
    "    \n",
    "mmqprop/__min__.py:\n",
    "```{code}\n",
    "from . import version\n",
    "\n",
    "print(\"mmqprop version:\", version())\n",
    "```\n",
    "\n",
    "In order to demonstrate running this code in this *Jupyter* page, we need to convince the (Jupyter application to move to the right directory and then run the command. \n",
    "\n",
    "From the top level project directory, we should just use this command:\n",
    "    \n",
    "```{code}\n",
    "python -m mmqprop\n",
    "```"
   ]
  },
  {
   "cell_type": "markdown",
   "id": "e5f6eebf",
   "metadata": {},
   "source": [
    "First, let's see where *Juputer* thinks we are working with *Python* code on this page:"
   ]
  },
  {
   "cell_type": "code",
   "execution_count": 1,
   "id": "ae7707af",
   "metadata": {},
   "outputs": [
    {
     "name": "stdout",
     "output_type": "stream",
     "text": [
      "/Users/rblack/_dev/mmqprop/book/content/development\r\n"
     ]
    }
   ],
   "source": [
    "!pwd"
   ]
  },
  {
   "cell_type": "markdown",
   "id": "bc1a2ca2",
   "metadata": {},
   "source": [
    "We actually need to be three levels up to get to the project root directory. We can make *Jupyter* move there, then run the command as follows:"
   ]
  },
  {
   "cell_type": "code",
   "execution_count": 2,
   "id": "867fc054",
   "metadata": {},
   "outputs": [
    {
     "name": "stdout",
     "output_type": "stream",
     "text": [
      "mmqprop version: 0.1.0\r\n"
     ]
    }
   ],
   "source": [
    "!cd ../../.. && python -m mmqprop"
   ]
  },
  {
   "cell_type": "markdown",
   "id": "67e433df",
   "metadata": {},
   "source": [
    "That is what we should see at this point. "
   ]
  },
  {
   "cell_type": "markdown",
   "id": "ee0eeeb8",
   "metadata": {},
   "source": [
    "The first part of that line changes the working directory to the top level of the project, three levels up. The **&&** combines commands, one after the other. The last part of the line is the actual command that runs the program. After this entire line completes, *Jupyter* will return to the original working directory, which is where this document page lives.\n",
    "                "
   ]
  },
  {
   "cell_type": "code",
   "execution_count": 3,
   "id": "6d5648c7",
   "metadata": {},
   "outputs": [
    {
     "name": "stdout",
     "output_type": "stream",
     "text": [
      "/Users/rblack/_dev/mmqprop/book/content/development\r\n"
     ]
    }
   ],
   "source": [
    "!pwd"
   ]
  },
  {
   "cell_type": "markdown",
   "id": "bde52b38",
   "metadata": {},
   "source": [
    "At this point we have a basic, very primitive, *Python* application running. Next, we will set up testing."
   ]
  }
 ],
 "metadata": {
  "kernelspec": {
   "display_name": "Python 3 (ipykernel)",
   "language": "python",
   "name": "python3"
  },
  "language_info": {
   "codemirror_mode": {
    "name": "ipython",
    "version": 3
   },
   "file_extension": ".py",
   "mimetype": "text/x-python",
   "name": "python",
   "nbconvert_exporter": "python",
   "pygments_lexer": "ipython3",
   "version": "3.10.8"
  },
  "toc": {
   "base_numbering": 1,
   "nav_menu": {},
   "number_sections": true,
   "sideBar": true,
   "skip_h1_title": false,
   "title_cell": "Table of Contents",
   "title_sidebar": "Contents",
   "toc_cell": false,
   "toc_position": {},
   "toc_section_display": true,
   "toc_window_display": false
  },
  "varInspector": {
   "cols": {
    "lenName": 16,
    "lenType": 16,
    "lenVar": 40
   },
   "kernels_config": {
    "python": {
     "delete_cmd_postfix": "",
     "delete_cmd_prefix": "del ",
     "library": "var_list.py",
     "varRefreshCmd": "print(var_dic_list())"
    },
    "r": {
     "delete_cmd_postfix": ") ",
     "delete_cmd_prefix": "rm(",
     "library": "var_list.r",
     "varRefreshCmd": "cat(var_dic_list()) "
    }
   },
   "types_to_exclude": [
    "module",
    "function",
    "builtin_function_or_method",
    "instance",
    "_Feature"
   ],
   "window_display": false
  }
 },
 "nbformat": 4,
 "nbformat_minor": 5
}