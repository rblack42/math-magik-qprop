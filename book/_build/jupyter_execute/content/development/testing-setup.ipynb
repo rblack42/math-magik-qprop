{
 "cells": [
  {
   "cell_type": "markdown",
   "id": "19470924",
   "metadata": {},
   "source": [
    "# Testing Setup"
   ]
  },
  {
   "cell_type": "raw",
   "id": "1d5a9a84",
   "metadata": {},
   "source": []
  },
  {
   "cell_type": "raw",
   "id": "4b081297",
   "metadata": {},
   "source": []
  },
  {
   "cell_type": "raw",
   "id": "f2e61b5a",
   "metadata": {},
   "source": [
    "All code you right should be tested to make sure it works as you expect. Long ago, testing was ignored and sometimes left for the users to do and give feedback to the developers. Thankfully, those days are over. Now developers are expected to fully test the programs *before* the user gets their hands on it!\n",
    "\n",
    "## Test Driven Development\n",
    "\n",
    "The modern development scheme is called *Test Driven Development*. To beginners, this may look strange. \n",
    "\n",
    "We begin by thinking up a small piece of code we can add to the project. We then think about how we will know that new piece of code actually works. Once we know that, we write a test that will exercise our new code and prove that it works. Tests should produce no output if things work, and print some kind of error message if they fail. \n",
    "\n",
    "Once th etest is in place, we run it and prove our vode does not work. It shouldn't because we have not written it yet! Once the test is in place, we write the code and make sure the test passes. \n",
    "\n",
    "We are not quite done at that point. Instead, we study the new code and see if there is a way ot clean it up. We do not wanto to change how it works, jus make is work \"beter\". This is called *refactoring*. Once you are happy with the new code, you repeat the process over and over until you are done.\n",
    "\n",
    "As you write new tests, you run all the old tests again to make sure you have not broken something that worked earlier. If you break something, your code is *regressing* and this type of testing is called *regression testing*.\n",
    "\n",
    "\n",
    "### Managing Tests\n",
    "\n",
    "Rather than do all of this work manually, we will use a powerful testing tool called *PyTest*. We install this program by adding a **pytest** line ot our **requirements.in** file, then running **make reqs**.\n",
    "\n",
    "*PyTest* manages all test code in a single **tests** directory in the project **root** directory. All test files need to have a name that begins with **test_** folowd by some test name. Let's write a test that checks the version number:\n",
    "\n",
    "tests/test_version.py\n",
    "```{code}\n",
    "from mmqprop import version\n",
    "\n",
    "def test_version_string():\n",
    "    assert version() == '0.1.0'\n",
    "```\n",
    "\n",
    "Obviously, if we change the version number, we will need to change this test. We will get to that later.\n",
    "\n",
    "If *PyTest* is installed, we can run this test as follows:"
   ]
  },
  {
   "cell_type": "code",
   "execution_count": 1,
   "id": "8d980173",
   "metadata": {},
   "outputs": [
    {
     "name": "stdout",
     "output_type": "stream",
     "text": [
      "\u001b[1m============================= test session starts ==============================\u001b[0m\r\n",
      "platform darwin -- Python 3.10.8, pytest-7.2.0, pluggy-1.0.0\r\n",
      "rootdir: /Users/rblack/_dev/mmqprop\r\n",
      "plugins: cov-4.0.0, anyio-3.6.2\r\n",
      "\u001b[1mcollecting ... \u001b[0m\u001b[1m\r",
      "collected 1 item                                                               \u001b[0m\r\n",
      "\r\n",
      "tests/test_version.py \u001b[32m.\u001b[0m\u001b[32m                                                  [100%]\u001b[0m\r\n",
      "\r\n",
      "\u001b[32m============================== \u001b[32m\u001b[1m1 passed\u001b[0m\u001b[32m in 0.01s\u001b[0m\u001b[32m ===============================\u001b[0m\r\n"
     ]
    }
   ],
   "source": [
    "!cd ../../.. && python -m pytest tests"
   ]
  },
  {
   "cell_type": "markdown",
   "id": "e366dd78",
   "metadata": {},
   "source": [
    "Now we know our testing structure is in place and works. If that test had failed, we would have seen an error message."
   ]
  },
  {
   "cell_type": "code",
   "execution_count": null,
   "id": "98f043f4",
   "metadata": {},
   "outputs": [],
   "source": []
  }
 ],
 "metadata": {
  "kernelspec": {
   "display_name": "Python 3 (ipykernel)",
   "language": "python",
   "name": "python3"
  },
  "language_info": {
   "codemirror_mode": {
    "name": "ipython",
    "version": 3
   },
   "file_extension": ".py",
   "mimetype": "text/x-python",
   "name": "python",
   "nbconvert_exporter": "python",
   "pygments_lexer": "ipython3",
   "version": "3.10.8"
  },
  "toc": {
   "base_numbering": 1,
   "nav_menu": {},
   "number_sections": true,
   "sideBar": true,
   "skip_h1_title": false,
   "title_cell": "Table of Contents",
   "title_sidebar": "Contents",
   "toc_cell": false,
   "toc_position": {},
   "toc_section_display": true,
   "toc_window_display": false
  },
  "varInspector": {
   "cols": {
    "lenName": 16,
    "lenType": 16,
    "lenVar": 40
   },
   "kernels_config": {
    "python": {
     "delete_cmd_postfix": "",
     "delete_cmd_prefix": "del ",
     "library": "var_list.py",
     "varRefreshCmd": "print(var_dic_list())"
    },
    "r": {
     "delete_cmd_postfix": ") ",
     "delete_cmd_prefix": "rm(",
     "library": "var_list.r",
     "varRefreshCmd": "cat(var_dic_list()) "
    }
   },
   "types_to_exclude": [
    "module",
    "function",
    "builtin_function_or_method",
    "instance",
    "_Feature"
   ],
   "window_display": false
  }
 },
 "nbformat": 4,
 "nbformat_minor": 5
}