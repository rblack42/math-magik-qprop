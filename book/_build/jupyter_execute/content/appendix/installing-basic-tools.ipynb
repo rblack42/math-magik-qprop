{
 "cells": [
  {
   "cell_type": "markdown",
   "id": "bfac15fb",
   "metadata": {},
   "source": [
    "# Basic Development Tools"
   ]
  },
  {
   "cell_type": "markdown",
   "id": "c01bd2a0",
   "metadata": {},
   "source": [
    "In this section we will install the basic tools needed to develop a serious *Python* application. For now, I will show how I install things on my *Macbook*. As the project progresses, I will add notes covering both Windows and Linix"
   ]
  },
  {
   "cell_type": "markdown",
   "id": "56c74d45",
   "metadata": {},
   "source": [
    "## Mac Installation\n",
    "\n",
    "All of the tools mentioned in this section are installed system-wide, meaning they are available for use on any project you start. *Python* applications may need additional tools on a per-project basis. These will be installed in a *Python Virtual Environment* we set up in the development section of these notes."
   ]
  },
  {
   "cell_type": "markdown",
   "id": "dc2583ad",
   "metadata": {},
   "source": [
    "### XCode /Command Line Tools\n",
    "\n",
    "Although it is not strictly needed for *Python* development work, there are many handy supporting tools available to *Mac* users by installing *XCode*.\n",
    "\n",
    "*XCode* can be installed fro the *Mac Store*. Be warned that *XCode* is huge, so downloading it will take a while!\n",
    "\n",
    "Once the installation is complete, open up the program (from the **Applications** directory) and check the version you have by navigating to **XCode->About XCode**.\n",
    "\n",
    "Next, you will also need to install the command-line tools. This is done by opening up *XCode* and navigating to the **XCode->Open Developer Tool->More Developer Tools** and selecting the version of the **Command Line Tools** that matches your *XCode* version. "
   ]
  },
  {
   "cell_type": "markdown",
   "id": "fcb49937",
   "metadata": {},
   "source": [
    "### Homebrew\n",
    "\n",
    "Many of the tools I use can be installed easily using a program known as *Homebrew*. You install this program on your system by running this comamnd:\n",
    "\n",
    "```{code}\n",
    "/bin/bash -c \"$(curl -fsSL https://raw.githubusercontent.com/Homebrew/install/HEAD/install.sh)\"\n",
    "```\n",
    "\n",
    "Once this command completes, check the program by running this command (leave off the leading exclamation point shown here. That is needed to get *Jupyter* to run system commands in this page):"
   ]
  },
  {
   "cell_type": "code",
   "execution_count": 1,
   "id": "6b154cb9",
   "metadata": {},
   "outputs": [
    {
     "name": "stdout",
     "output_type": "stream",
     "text": [
      "Homebrew 3.6.12\r\n"
     ]
    },
    {
     "name": "stdout",
     "output_type": "stream",
     "text": [
      "Homebrew/homebrew-core (git revision 4675ea99087; last commit 2022-11-21)\r\n"
     ]
    },
    {
     "name": "stdout",
     "output_type": "stream",
     "text": [
      "Homebrew/homebrew-cask (git revision 99b996e257; last commit 2022-11-21)\r\n"
     ]
    }
   ],
   "source": [
    "!brew --version"
   ]
  },
  {
   "cell_type": "markdown",
   "id": "d29b247e",
   "metadata": {},
   "source": [
    "### Python\n",
    "\n",
    "Obviously we need a recent version of *Python*. *Mac* systems have an older version of *Python* installed by default, but we will work with a newer version. At the time of this writing, Python version 3.11 has been released, but not all of the tools I use are ready for that version. For that reason, I will install *Python 3.10.8* for this project:\n",
    "\n",
    "*Homebrew* will not install a program that is already in place on your system. The output from this command can be a bit verbose, so I will just show the command here:\n",
    "\n",
    "```{code}\n",
    "brew install python@3.10\n",
    "```"
   ]
  },
  {
   "cell_type": "markdown",
   "id": "bd5b751e",
   "metadata": {},
   "source": [
    "### Git"
   ]
  },
  {
   "cell_type": "markdown",
   "id": "cebfd529",
   "metadata": {},
   "source": [
    "Git is simple to install using (Homebrew*:\n",
    "\n",
    "```{code}\n",
    "brew install git\n",
    "```\n",
    "\n",
    "Learning how to use both *Git* and *Github* is worth spending some of your time. Here is one of many tutorials to help you get started: [Git and Github for Beginners](https://product.hubspot.com/blog/git-and-github-tutorial-for-beginners)"
   ]
  },
  {
   "cell_type": "markdown",
   "id": "bc767ccf",
   "metadata": {},
   "source": [
    "### Programmer's Editor\n",
    "\n",
    "Picking an editor for your work is a highly personal choice. Since I often work on the command-line on remote servers, I have used an editor called *Vim* for more years than I can count. THe version of this program for the *Mac* is installed on all of my *Mac* systems:\n",
    "\n",
    "```{code}\n",
    "brew install --cask macvim\n",
    "```\n",
    "\n",
    "This command actually installs both a command-line version of the program that you can launch using the program name **vim**, and a standard graphical version you launch like any normal application from the *Application* menu. The **--cask** option installs both versions."
   ]
  },
  {
   "cell_type": "markdown",
   "id": "ecc966b0",
   "metadata": {},
   "source": [
    "## Windows 11 Installation\n",
    "\n",
    "I have given up my older *Windows* versions, and have installed *Windows 11* on my development PC. Setting that system up is more complex than on the *Mac*. Instead of *Homebrew*, I use a similar tool called [Chocolatey](https://chocolatey.org). Unfortunately, installing this tool is a bit difficult since it needs *Microsoft's* super shell tool: *PowerShell*. It is possible to avoid this and just use the installation packages for *Windows* available from the project web sites, but I prefer to use a better management tool."
   ]
  },
  {
   "cell_type": "markdown",
   "id": "bb93e9c6",
   "metadata": {},
   "source": [
    "### Powershell\n",
    "\n",
    "To install *PowerShell* on your PC, you need to download the program from the *Microsoft* website. *Windows 11* provides aprogram that makes this process easier:\n",
    "\n",
    "```{code}\n",
    "winget install --id Microsoft.Powershell --source winget\n",
    "``` \n",
    "\n",
    "Once this command completes, you should find *PowerShell* in your list of installed applications. You can launch is like any other *Windows* programs.\n",
    "\n",
    "To install *Chocolatey*, you need to run the *Administrative Shell* version of the program. \n",
    "\n",
    "With the *PowerShell* window open, enter this annoying command:"
   ]
  },
  {
   "cell_type": "markdown",
   "id": "44ba54c0",
   "metadata": {},
   "source": [
    "```{code}\n",
    "Set-ExecutionPolicy Bypass -Scope Process -Force; [System.Net.ServicePointManager]::SecurityProtocol = [System.Net.ServicePointManager]::SecurityProtocol -bor 3072; iex ((New-Object System.Net.WebClient).DownloadString('https://community.chocolatey.org/install.ps1'### Python\n",
    "```\n",
    "\n",
    "Believe it or not, that command is all on one line. I highly recommend copy and paste to get it right! This will install the *Chocolatey* tool"
   ]
  },
  {
   "cell_type": "markdown",
   "id": "740eef62",
   "metadata": {},
   "source": [
    "### Python"
   ]
  },
  {
   "cell_type": "markdown",
   "id": "d1edf655",
   "metadata": {},
   "source": [
    "You can search for a package using this command:\n",
    "\n",
    "```{code}\n",
    "choco search python3\n",
    "```\n",
    "\n",
    "This should display a list of available versions of *Python*. We install it using this command:\n",
    "\n",
    "```{code}\n",
    "choco install python --version=3.10.8\n",
    "```"
   ]
  },
  {
   "cell_type": "markdown",
   "id": "cf82471c",
   "metadata": {},
   "source": [
    "### Git\n",
    "\n",
    "*Git* can be install in a similar manner:\n",
    "\n",
    "```{code}\n",
    "choco install git\n",
    "```\n",
    "\n",
    "Here, we just get the latest available version."
   ]
  },
  {
   "cell_type": "markdown",
   "id": "61c721bc",
   "metadata": {},
   "source": [
    "### Programmer's Editor"
   ]
  },
  {
   "cell_type": "markdown",
   "id": "54d0ed24",
   "metadata": {},
   "source": [
    "## Linux Installation\n",
    "\n",
    "There are many versions of *Linux* available  for PC hardware, and even for tiny machines like the *Raspberry Pi. I normally use the *Ubuntu* distribution, and my students have successfully run that operating system inside *Virtual Machines* on their *Windows* computers. The newer releases of *Windows* support something called *Windows Subsystem for LInux (WSL)* which lets you install *Ubuntu* or another Linux versions directly into your *Windows* environment. You open up a window that will run just like a normal *Linux* machine.\n",
    "\n",
    "I will not show that setup here. Instead, I am assuming that you have a computer with the latest version of *Ubuntu* installed, and know how to get to a command-line. "
   ]
  },
  {
   "cell_type": "code",
   "execution_count": null,
   "id": "46863e36",
   "metadata": {},
   "outputs": [],
   "source": []
  }
 ],
 "metadata": {
  "kernelspec": {
   "display_name": "Python 3 (ipykernel)",
   "language": "python",
   "name": "python3"
  },
  "language_info": {
   "codemirror_mode": {
    "name": "ipython",
    "version": 3
   },
   "file_extension": ".py",
   "mimetype": "text/x-python",
   "name": "python",
   "nbconvert_exporter": "python",
   "pygments_lexer": "ipython3",
   "version": "3.10.8"
  },
  "toc": {
   "base_numbering": 1,
   "nav_menu": {},
   "number_sections": true,
   "sideBar": true,
   "skip_h1_title": false,
   "title_cell": "Table of Contents",
   "title_sidebar": "Contents",
   "toc_cell": false,
   "toc_position": {},
   "toc_section_display": true,
   "toc_window_display": false
  },
  "varInspector": {
   "cols": {
    "lenName": 16,
    "lenType": 16,
    "lenVar": 40
   },
   "kernels_config": {
    "python": {
     "delete_cmd_postfix": "",
     "delete_cmd_prefix": "del ",
     "library": "var_list.py",
     "varRefreshCmd": "print(var_dic_list())"
    },
    "r": {
     "delete_cmd_postfix": ") ",
     "delete_cmd_prefix": "rm(",
     "library": "var_list.r",
     "varRefreshCmd": "cat(var_dic_list()) "
    }
   },
   "types_to_exclude": [
    "module",
    "function",
    "builtin_function_or_method",
    "instance",
    "_Feature"
   ],
   "window_display": false
  }
 },
 "nbformat": 4,
 "nbformat_minor": 5
}