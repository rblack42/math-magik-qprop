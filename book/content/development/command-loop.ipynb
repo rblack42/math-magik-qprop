{
 "cells": [
  {
   "cell_type": "markdown",
   "id": "d0fff556",
   "metadata": {},
   "source": [
    "# Command Loop"
   ]
  },
  {
   "cell_type": "markdown",
   "id": "6b0da652",
   "metadata": {},
   "source": [
    "There are two ways to set up a command-line application: one takes all parameters needed to run a single use case from the command line as arguments, and the other lets the user run multiple internal commands while the application runs. The original *Qprop* program ran using the first approach. We will build this application using second approach by creating something called an *Event Loop*."
   ]
  },
  {
   "cell_type": "markdown",
   "id": "5be1cdc7",
   "metadata": {},
   "source": [
    "## Event Loops\n",
    "\n",
    "Most programs users are familiar with these days use an *event loop* to manage user input. Think about any graphical program you drive with your mouse. The user decides what to do and when to do it, so the program has to be structured using a simple loop that looks something like this:\n",
    "\n",
    "```{code}\n",
    "    while True:\n",
    "              cmd = input()\n",
    "              if cmd == 'quit':\n",
    "                  break\n",
    "              process(cmd)\n",
    "```\n",
    "\n",
    "The only way to stop this loop, other than having something fail in the **process** step, is for the user to enter **quit** as a command."
   ]
  },
  {
   "cell_type": "markdown",
   "id": "c00a6729",
   "metadata": {},
   "source": [
    "### Program Context\n",
    "\n",
    "As the *event loop* runs the user will enter various commands that provide additional information to the program. This new data needs to be saved since it will affect future commands selected by the user. For that reason, we will need to set up a store of some kind that can be modified as the program runs. All commands need access to this store so they can inspect it as needed to do whatever task they are set up to do during processing.\n",
    "\n",
    "Fortunately all of this is fairly easy to set up in *Python*"
   ]
  }
 ],
 "metadata": {
  "kernelspec": {
   "display_name": "Python 3 (ipykernel)",
   "language": "python",
   "name": "python3"
  },
  "language_info": {
   "codemirror_mode": {
    "name": "ipython",
    "version": 3
   },
   "file_extension": ".py",
   "mimetype": "text/x-python",
   "name": "python",
   "nbconvert_exporter": "python",
   "pygments_lexer": "ipython3",
   "version": "3.10.8"
  },
  "toc": {
   "base_numbering": 1,
   "nav_menu": {},
   "number_sections": true,
   "sideBar": true,
   "skip_h1_title": false,
   "title_cell": "Table of Contents",
   "title_sidebar": "Contents",
   "toc_cell": false,
   "toc_position": {},
   "toc_section_display": true,
   "toc_window_display": false
  },
  "varInspector": {
   "cols": {
    "lenName": 16,
    "lenType": 16,
    "lenVar": 40
   },
   "kernels_config": {
    "python": {
     "delete_cmd_postfix": "",
     "delete_cmd_prefix": "del ",
     "library": "var_list.py",
     "varRefreshCmd": "print(var_dic_list())"
    },
    "r": {
     "delete_cmd_postfix": ") ",
     "delete_cmd_prefix": "rm(",
     "library": "var_list.r",
     "varRefreshCmd": "cat(var_dic_list()) "
    }
   },
   "types_to_exclude": [
    "module",
    "function",
    "builtin_function_or_method",
    "instance",
    "_Feature"
   ],
   "window_display": false
  }
 },
 "nbformat": 4,
 "nbformat_minor": 5
}
