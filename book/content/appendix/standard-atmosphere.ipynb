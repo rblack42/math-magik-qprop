{
 "cells": [
  {
   "cell_type": "markdown",
   "id": "a428c324",
   "metadata": {},
   "source": [
    "# Standard Atmosphere"
   ]
  },
  {
   "cell_type": "markdown",
   "id": "9dc86d70",
   "metadata": {},
   "source": [
    "Aerodynamic analyses need various air properties to do the calculations. The standard way to come up with thoseproperties is to use the *Standard Atmosphere* model, published in 1976. There is a *Python* package that provides access to this model, but for our purposes, I will use methods defined in Mark Drela's *Flight Vehicle Aerodynamics*{cite}`drela2014`."
   ]
  },
  {
   "cell_type": "markdown",
   "id": "5b695c17",
   "metadata": {},
   "source": [
    "To get started with this model, we need to define the properties at sea-level. Each of these properties has engineering units attached to the number. It is critical that these units be consistent in calculations, so we will use the *Python* **pint** package to add these units to the data."
   ]
  },
  {
   "cell_type": "code",
   "execution_count": 1,
   "id": "ea75549a",
   "metadata": {},
   "outputs": [],
   "source": [
    "import pint"
   ]
  },
  {
   "cell_type": "code",
   "execution_count": 2,
   "id": "3e969845",
   "metadata": {},
   "outputs": [],
   "source": [
    "u = pint.UnitRegistry()"
   ]
  },
  {
   "cell_type": "code",
   "execution_count": 3,
   "id": "9b976d40",
   "metadata": {},
   "outputs": [
    {
     "data": {
      "text/html": [
       "1.225 kilogram/meter<sup>3</sup>"
      ],
      "text/latex": [
       "$1.225\\ \\frac{\\mathrm{kilogram}}{\\mathrm{meter}^{3}}$"
      ],
      "text/plain": [
       "1.225 <Unit('kilogram / meter ** 3')>"
      ]
     },
     "execution_count": 3,
     "metadata": {},
     "output_type": "execute_result"
    }
   ],
   "source": [
    "rho_SL = 1.225*u.kg/u.m**3\n",
    "rho_SL"
   ]
  },
  {
   "cell_type": "code",
   "execution_count": 4,
   "id": "97fab3f0",
   "metadata": {},
   "outputs": [
    {
     "data": {
      "text/html": [
       "101320.0 pascal"
      ],
      "text/latex": [
       "$101320.0\\ \\mathrm{pascal}$"
      ],
      "text/plain": [
       "101320.0 <Unit('pascal')>"
      ]
     },
     "execution_count": 4,
     "metadata": {},
     "output_type": "execute_result"
    }
   ],
   "source": [
    "p_SL = 1.0132e5*u.pascal\n",
    "p_SL"
   ]
  },
  {
   "cell_type": "code",
   "execution_count": 5,
   "id": "717ca94d",
   "metadata": {},
   "outputs": [
    {
     "data": {
      "text/html": [
       "288.15 kelvin"
      ],
      "text/latex": [
       "$288.15\\ \\mathrm{kelvin}$"
      ],
      "text/plain": [
       "288.15 <Unit('kelvin')>"
      ]
     },
     "execution_count": 5,
     "metadata": {},
     "output_type": "execute_result"
    }
   ],
   "source": [
    "T_SL = 288.15*u.kelvin\n",
    "T_SL"
   ]
  },
  {
   "cell_type": "code",
   "execution_count": 6,
   "id": "b662d073",
   "metadata": {},
   "outputs": [
    {
     "data": {
      "text/html": [
       "340.3 meter/second"
      ],
      "text/latex": [
       "$340.3\\ \\frac{\\mathrm{meter}}{\\mathrm{second}}$"
      ],
      "text/plain": [
       "340.3 <Unit('meter / second')>"
      ]
     },
     "execution_count": 6,
     "metadata": {},
     "output_type": "execute_result"
    }
   ],
   "source": [
    "a_SL = 340.3*u.m/u.sec\n",
    "a_SL"
   ]
  },
  {
   "cell_type": "code",
   "execution_count": 7,
   "id": "a7de74f2",
   "metadata": {
    "cell_style": "split"
   },
   "outputs": [
    {
     "data": {
      "text/html": [
       "1.79×10<sup>-5</sup> kilogram/(meter second)"
      ],
      "text/latex": [
       "$1.79\\times 10^{-5}\\ \\frac{\\mathrm{kilogram}}{\\left(\\mathrm{meter} \\cdot \\mathrm{second}\\right)}$"
      ],
      "text/plain": [
       "1.79e-05 <Unit('kilogram / meter / second')>"
      ]
     },
     "execution_count": 7,
     "metadata": {},
     "output_type": "execute_result"
    }
   ],
   "source": [
    "mu_SL = 1.79e-5*u.kg/(u.m*u.sec)\n",
    "mu_SL"
   ]
  },
  {
   "cell_type": "markdown",
   "id": "00caa4f1",
   "metadata": {},
   "source": [
    "The equations that define these properties for altitudes other than sea-level are given in Drela's book, but they originally come from the *COESA Working Group*{cite}`coesa1976`\n",
    "\n",
    "\\begin{equation}\n",
    "p(z) = e^{-0.118z -\\frac{0.0015z^2}{1-0.018z+0.0011z^2}}\n",
    "\\end{equation}"
   ]
  },
  {
   "cell_type": "code",
   "execution_count": 8,
   "id": "0339a700",
   "metadata": {},
   "outputs": [],
   "source": [
    "import matplotlib.pyplot as plt\n",
    "import numpy as np"
   ]
  },
  {
   "cell_type": "code",
   "execution_count": 9,
   "id": "6efa07b5",
   "metadata": {},
   "outputs": [
    {
     "data": {
      "text/html": [
       "<table><tbody><tr><th>Magnitude</th><td style='text-align:left;'><pre>[0.0 1.0 2.0 3.0 4.0 5.0 6.0 7.0 8.0 9.0 10.0 11.0 12.0 13.0 14.0 15.0<br> 16.0 17.0 18.0 19.0 20.0 21.0 22.0 23.0 24.0 25.0 26.0]</pre></td></tr><tr><th>Units</th><td style='text-align:left;'>kilometer</td></tr></tbody></table>"
      ],
      "text/latex": [
       "$\\begin{pmatrix}0.0 & 1.0 & 2.0 & 3.0 & 4.0 & 5.0 & 6.0 & 7.0 & 8.0 & 9.0 & 10.0 & 11.0 & 12.0 & 13.0 & 14.0 & 15.0 & 16.0 & 17.0 & 18.0 & 19.0 & 20.0 & 21.0 & 22.0 & 23.0 & 24.0 & 25.0 & 26.0\\end{pmatrix}\\ \\mathrm{kilometer}$"
      ],
      "text/plain": [
       "array([ 0.,  1.,  2.,  3.,  4.,  5.,  6.,  7.,  8.,  9., 10., 11., 12.,\n",
       "       13., 14., 15., 16., 17., 18., 19., 20., 21., 22., 23., 24., 25.,\n",
       "       26.]) <Unit('kilometer')>"
      ]
     },
     "execution_count": 9,
     "metadata": {},
     "output_type": "execute_result"
    }
   ],
   "source": [
    "alt = np.linspace(0,26,27)*u.km\n",
    "alt"
   ]
  },
  {
   "cell_type": "markdown",
   "id": "2df37c7e",
   "metadata": {},
   "source": [
    "## Pressure vs Altitude"
   ]
  },
  {
   "cell_type": "code",
   "execution_count": 10,
   "id": "5d8b2fde",
   "metadata": {},
   "outputs": [],
   "source": [
    "def p(z):\n",
    "    zm = z.magnitude\n",
    "    return p_SL*np.exp(-0.118*zm-(0.0015*zm**2)/(1-0.018*zm+0.0011*zm**2))"
   ]
  },
  {
   "cell_type": "code",
   "execution_count": 11,
   "id": "a3448820",
   "metadata": {},
   "outputs": [
    {
     "data": {
      "text/html": [
       "<table><tbody><tr><th>Magnitude</th><td style='text-align:left;'><pre>[101320.0 89905.40296142412 79526.3201763238 70116.7008535207<br> 61614.862419002806 53962.20127801882 47102.168173822436 40979.53120929073<br> 35539.93103120646 30729.71191496322 26495.992696378078 22786.925696046874<br> 19552.082212282578 16742.900854417207 14313.13965090953<br> 12219.283063740182 10420.868635489112 8880.712667420943 7565.028033761941<br> 6443.43852153456 5488.902186947324 4677.561021642893 3988.536089189105<br> 3403.6868673416725 2907.3515509893737 2486.0822244901847<br> 2128.3856626436877]</pre></td></tr><tr><th>Units</th><td style='text-align:left;'>pascal</td></tr></tbody></table>"
      ],
      "text/latex": [
       "$\\begin{pmatrix}101320.0 & 89905.40296142412 & 79526.3201763238 & 70116.7008535207 & 61614.862419002806 & 53962.20127801882 & 47102.168173822436 & 40979.53120929073 & 35539.93103120646 & 30729.71191496322 & 26495.992696378078 & 22786.925696046874 & 19552.082212282578 & 16742.900854417207 & 14313.13965090953 & 12219.283063740182 & 10420.868635489112 & 8880.712667420943 & 7565.028033761941 & 6443.43852153456 & 5488.902186947324 & 4677.561021642893 & 3988.536089189105 & 3403.6868673416725 & 2907.3515509893737 & 2486.0822244901847 & 2128.3856626436877\\end{pmatrix}\\ \\mathrm{pascal}$"
      ],
      "text/plain": [
       "array([101320.        ,  89905.40296142,  79526.32017632,  70116.70085352,\n",
       "        61614.862419  ,  53962.20127802,  47102.16817382,  40979.53120929,\n",
       "        35539.93103121,  30729.71191496,  26495.99269638,  22786.92569605,\n",
       "        19552.08221228,  16742.90085442,  14313.13965091,  12219.28306374,\n",
       "        10420.86863549,   8880.71266742,   7565.02803376,   6443.43852153,\n",
       "         5488.90218695,   4677.56102164,   3988.53608919,   3403.68686734,\n",
       "         2907.35155099,   2486.08222449,   2128.38566264]) <Unit('pascal')>"
      ]
     },
     "execution_count": 11,
     "metadata": {},
     "output_type": "execute_result"
    }
   ],
   "source": [
    "poa = p(alt)\n",
    "poa"
   ]
  },
  {
   "cell_type": "code",
   "execution_count": 12,
   "id": "2dd1a743",
   "metadata": {},
   "outputs": [],
   "source": [
    "popsl = poa/p_SL"
   ]
  },
  {
   "cell_type": "markdown",
   "id": "6441a43b",
   "metadata": {},
   "source": [
    "## Temperature vs Altitude"
   ]
  },
  {
   "cell_type": "code",
   "execution_count": 13,
   "id": "f0d0805c",
   "metadata": {},
   "outputs": [],
   "source": [
    "def T(z):\n",
    "    zm = z.magnitude\n",
    "    res = 216.65 + 2.0*np.log(1 + np.exp(35.75 - 3.25*zm) + np.exp(-3.0+0.0003*zm**3))\n",
    "    return res*u.kelvin"
   ]
  },
  {
   "cell_type": "code",
   "execution_count": 14,
   "id": "aef0b14d",
   "metadata": {},
   "outputs": [
    {
     "data": {
      "text/html": [
       "288.15 kelvin"
      ],
      "text/latex": [
       "$288.15\\ \\mathrm{kelvin}$"
      ],
      "text/plain": [
       "288.15 <Unit('kelvin')>"
      ]
     },
     "execution_count": 14,
     "metadata": {},
     "output_type": "execute_result"
    }
   ],
   "source": [
    "T(0*u.km)"
   ]
  },
  {
   "cell_type": "code",
   "execution_count": 15,
   "id": "d2aecd4d",
   "metadata": {},
   "outputs": [],
   "source": [
    "totsl = T(alt)\n",
    "totsl = totsl/T_SL"
   ]
  },
  {
   "cell_type": "code",
   "execution_count": 16,
   "id": "6778f392",
   "metadata": {},
   "outputs": [
    {
     "data": {
      "text/html": [
       "<table><tbody><tr><th>Magnitude</th><td style='text-align:left;'><pre>[1.0 0.9774423043553707 0.9548846087107425 0.9323269130661487<br> 0.909769217422443 0.8872115218016585 0.864653826772848 0.8420961470418766<br> 0.8195388629320705 0.7969918120142241 0.7747044719977422<br> 0.7569292795636732 0.7526666985587329 0.7525126326478171<br> 0.7526113080276051 0.7527567465845564 0.7529558481885794<br> 0.7532306263698091 0.7536133264982797 0.7541496428151572<br> 0.7549018771506926 0.755949529762568 0.7573837493026108 0.75929287550148<br> 0.7617418335517596 0.7647560442698814 0.7683210471896667]</pre></td></tr><tr><th>Units</th><td style='text-align:left;'>dimensionless</td></tr></tbody></table>"
      ],
      "text/latex": [
       "$\\begin{pmatrix}1.0 & 0.9774423043553707 & 0.9548846087107425 & 0.9323269130661487 & 0.909769217422443 & 0.8872115218016585 & 0.864653826772848 & 0.8420961470418766 & 0.8195388629320705 & 0.7969918120142241 & 0.7747044719977422 & 0.7569292795636732 & 0.7526666985587329 & 0.7525126326478171 & 0.7526113080276051 & 0.7527567465845564 & 0.7529558481885794 & 0.7532306263698091 & 0.7536133264982797 & 0.7541496428151572 & 0.7549018771506926 & 0.755949529762568 & 0.7573837493026108 & 0.75929287550148 & 0.7617418335517596 & 0.7647560442698814 & 0.7683210471896667\\end{pmatrix}\\ dimensionless$"
      ],
      "text/plain": [
       "array([1.        , 0.9774423 , 0.95488461, 0.93232691, 0.90976922,\n",
       "       0.88721152, 0.86465383, 0.84209615, 0.81953886, 0.79699181,\n",
       "       0.77470447, 0.75692928, 0.7526667 , 0.75251263, 0.75261131,\n",
       "       0.75275675, 0.75295585, 0.75323063, 0.75361333, 0.75414964,\n",
       "       0.75490188, 0.75594953, 0.75738375, 0.75929288, 0.76174183,\n",
       "       0.76475604, 0.76832105]) <Unit('dimensionless')>"
      ]
     },
     "execution_count": 16,
     "metadata": {},
     "output_type": "execute_result"
    }
   ],
   "source": [
    "totsl"
   ]
  },
  {
   "cell_type": "markdown",
   "id": "5e38583f",
   "metadata": {},
   "source": [
    "## Viscosity vs Altitude"
   ]
  },
  {
   "cell_type": "markdown",
   "id": "da7e3317",
   "metadata": {},
   "source": [
    "The viscosity function is given next:\n",
    "    \n",
    "\\begin{equation}\n",
    "\\mu(z) = \\mu(T(z)) = \\mu_{SL}\\left(\\frac{T}{T_{SL}}\n",
    "\\right)^\\frac{3}{2}\\frac{T_{SL} + T_S}{T + T_S}\n",
    "\\end{equation}\n",
    "\n",
    "From Sutherland's Law, the value for $T_S$ is $110K$ for air."
   ]
  },
  {
   "cell_type": "code",
   "execution_count": 17,
   "id": "b37a72b7",
   "metadata": {},
   "outputs": [],
   "source": [
    "T_S = 110 * u.kelvin"
   ]
  },
  {
   "cell_type": "code",
   "execution_count": 18,
   "id": "e942ee18",
   "metadata": {},
   "outputs": [
    {
     "data": {
      "text/html": [
       "<table><tbody><tr><th>Magnitude</th><td style='text-align:left;'><pre>[288.15 281.65000000000003 275.15000000000043 268.6500000000107<br> 262.1500000002769 255.65000000714787 249.1500001845961 242.65000477011674<br> 236.15012335387607 229.65319063189864 223.2310936061494<br> 218.10917190627242 216.88090918969888 216.83651509746846<br> 216.8649484081544 216.90685652833992 216.96422765553913<br> 217.04340498846048 217.15368003047928 217.30821957718751<br> 217.52497590097204 217.82685700108397 218.24012736154728<br> 218.79024207575142 219.4959093379395 220.36445415636632<br> 221.39170974770244]</pre></td></tr><tr><th>Units</th><td style='text-align:left;'>kelvin</td></tr></tbody></table>"
      ],
      "text/latex": [
       "$\\begin{pmatrix}288.15 & 281.65000000000003 & 275.15000000000043 & 268.6500000000107 & 262.1500000002769 & 255.65000000714787 & 249.1500001845961 & 242.65000477011674 & 236.15012335387607 & 229.65319063189864 & 223.2310936061494 & 218.10917190627242 & 216.88090918969888 & 216.83651509746846 & 216.8649484081544 & 216.90685652833992 & 216.96422765553913 & 217.04340498846048 & 217.15368003047928 & 217.30821957718751 & 217.52497590097204 & 217.82685700108397 & 218.24012736154728 & 218.79024207575142 & 219.4959093379395 & 220.36445415636632 & 221.39170974770244\\end{pmatrix}\\ \\mathrm{kelvin}$"
      ],
      "text/plain": [
       "array([288.15      , 281.65      , 275.15      , 268.65      ,\n",
       "       262.15      , 255.65000001, 249.15000018, 242.65000477,\n",
       "       236.15012335, 229.65319063, 223.23109361, 218.10917191,\n",
       "       216.88090919, 216.8365151 , 216.86494841, 216.90685653,\n",
       "       216.96422766, 217.04340499, 217.15368003, 217.30821958,\n",
       "       217.5249759 , 217.826857  , 218.24012736, 218.79024208,\n",
       "       219.49590934, 220.36445416, 221.39170975]) <Unit('kelvin')>"
      ]
     },
     "execution_count": 18,
     "metadata": {},
     "output_type": "execute_result"
    }
   ],
   "source": [
    "temp = T(alt)\n",
    "temp"
   ]
  },
  {
   "cell_type": "code",
   "execution_count": 19,
   "id": "f5618e64",
   "metadata": {},
   "outputs": [],
   "source": [
    "def mu(z):\n",
    "    temp = T(z)\n",
    "    return mu_SL*(temp/T_SL)**1.5*(T_SL + T_S)/(temp+T_S)"
   ]
  },
  {
   "cell_type": "code",
   "execution_count": 20,
   "id": "e47166e2",
   "metadata": {},
   "outputs": [
    {
     "data": {
      "text/html": [
       "<table><tbody><tr><th>Magnitude</th><td style='text-align:left;'><pre>[1.79e-05 1.7584835809587085e-05 1.7266177001104793e-05<br> 1.694392893819139e-05 1.6617993505788143e-05 1.628826899776725e-05<br> 1.5954650017569277e-05 1.561702758439764e-05 1.5275294416681778e-05<br> 1.4929485519502643e-05 1.4583384522673428e-05 1.4304225162586247e-05<br> 1.4236861027383915e-05 1.4234423157951812e-05 1.423598457735019e-05<br> 1.4238285807250525e-05 1.4241435820872942e-05 1.4245782535101866e-05<br> 1.425183532845563e-05 1.4260315491725273e-05 1.427220534594282e-05<br> 1.428875609091321e-05 1.4311397759875444e-05 1.4341507963811481e-05<br> 1.4380084373826825e-05 1.4427491109355978e-05 1.4483456082874562e-05]</pre></td></tr><tr><th>Units</th><td style='text-align:left;'>kilogram/(meter second)</td></tr></tbody></table>"
      ],
      "text/latex": [
       "$\\begin{pmatrix}1.79\\times 10^{-5} & 1.7584835809587085\\times 10^{-5} & 1.7266177001104793\\times 10^{-5} & 1.694392893819139\\times 10^{-5} & 1.6617993505788143\\times 10^{-5} & 1.628826899776725\\times 10^{-5} & 1.5954650017569277\\times 10^{-5} & 1.561702758439764\\times 10^{-5} & 1.5275294416681778\\times 10^{-5} & 1.4929485519502643\\times 10^{-5} & 1.4583384522673428\\times 10^{-5} & 1.4304225162586247\\times 10^{-5} & 1.4236861027383915\\times 10^{-5} & 1.4234423157951812\\times 10^{-5} & 1.423598457735019\\times 10^{-5} & 1.4238285807250525\\times 10^{-5} & 1.4241435820872942\\times 10^{-5} & 1.4245782535101866\\times 10^{-5} & 1.425183532845563\\times 10^{-5} & 1.4260315491725273\\times 10^{-5} & 1.427220534594282\\times 10^{-5} & 1.428875609091321\\times 10^{-5} & 1.4311397759875444\\times 10^{-5} & 1.4341507963811481\\times 10^{-5} & 1.4380084373826825\\times 10^{-5} & 1.4427491109355978\\times 10^{-5} & 1.4483456082874562\\times 10^{-5}\\end{pmatrix}\\ \\frac{\\mathrm{kilogram}}{\\left(\\mathrm{meter} \\cdot \\mathrm{second}\\right)}$"
      ],
      "text/plain": [
       "array([1.79000000e-05, 1.75848358e-05, 1.72661770e-05, 1.69439289e-05,\n",
       "       1.66179935e-05, 1.62882690e-05, 1.59546500e-05, 1.56170276e-05,\n",
       "       1.52752944e-05, 1.49294855e-05, 1.45833845e-05, 1.43042252e-05,\n",
       "       1.42368610e-05, 1.42344232e-05, 1.42359846e-05, 1.42382858e-05,\n",
       "       1.42414358e-05, 1.42457825e-05, 1.42518353e-05, 1.42603155e-05,\n",
       "       1.42722053e-05, 1.42887561e-05, 1.43113978e-05, 1.43415080e-05,\n",
       "       1.43800844e-05, 1.44274911e-05, 1.44834561e-05]) <Unit('kilogram / meter / second')>"
      ]
     },
     "execution_count": 20,
     "metadata": {},
     "output_type": "execute_result"
    }
   ],
   "source": [
    "muoa = mu(alt)\n",
    "muoa"
   ]
  },
  {
   "cell_type": "markdown",
   "id": "4880437c",
   "metadata": {},
   "source": [
    "## Density vs Altitude"
   ]
  },
  {
   "cell_type": "markdown",
   "id": "ae3ffdf4",
   "metadata": {},
   "source": [
    "To get density we need to use the ideal gas state equation\n",
    "\n",
    "\\begin{equation}\n",
    "p = \\rho R T\n",
    "\\end{equation}\n",
    "\n",
    "Where the gas constant is $R = 287.04\\frac{J}{kgK}$"
   ]
  },
  {
   "cell_type": "code",
   "execution_count": 21,
   "id": "a8ec9c4b",
   "metadata": {},
   "outputs": [],
   "source": [
    "Rgas = 287.04*u.joule/(u.kg*u.kelvin)\n"
   ]
  },
  {
   "cell_type": "code",
   "execution_count": 22,
   "id": "dc9399f6",
   "metadata": {},
   "outputs": [],
   "source": [
    "def rho(z):\n",
    "    temp = T(z)\n",
    "    press = p(z)\n",
    "    rho = press/(Rgas*temp)\n",
    "    return rho"
   ]
  },
  {
   "cell_type": "code",
   "execution_count": 23,
   "id": "70217aef",
   "metadata": {},
   "outputs": [
    {
     "data": {
      "text/html": [
       "<table><tbody><tr><th>Magnitude</th><td style='text-align:left;'><pre>[1.2249944916355073 1.1120738151154193 1.006929231672808<br> 0.9092686279875508 0.818828970279342 0.7353624321726699<br> 0.6586240505752484 0.5883615187817502 0.5243073942276445<br> 0.4661692083875943 0.4135072107201098 0.3639731823997718<br> 0.3140720347286737 0.2690022207064919 0.229933962687512<br> 0.19625919974048978 0.16732982820764872 0.1425472368849524<br> 0.12136708656500936 0.10329971282845796 0.08790912170823537<br> 0.07481102675886994 0.06367024165768087 0.054197496853412463<br> 0.046145429941715554 0.0393035270301297 0.033492421578613936]</pre></td></tr><tr><th>Units</th><td style='text-align:left;'>kilogram/meter<sup>3</sup></td></tr></tbody></table>"
      ],
      "text/latex": [
       "$\\begin{pmatrix}1.2249944916355073 & 1.1120738151154193 & 1.006929231672808 & 0.9092686279875508 & 0.818828970279342 & 0.7353624321726699 & 0.6586240505752484 & 0.5883615187817502 & 0.5243073942276445 & 0.4661692083875943 & 0.4135072107201098 & 0.3639731823997718 & 0.3140720347286737 & 0.2690022207064919 & 0.229933962687512 & 0.19625919974048978 & 0.16732982820764872 & 0.1425472368849524 & 0.12136708656500936 & 0.10329971282845796 & 0.08790912170823537 & 0.07481102675886994 & 0.06367024165768087 & 0.054197496853412463 & 0.046145429941715554 & 0.0393035270301297 & 0.033492421578613936\\end{pmatrix}\\ \\frac{\\mathrm{kilogram}}{\\mathrm{meter}^{3}}$"
      ],
      "text/plain": [
       "array([1.22499449, 1.11207382, 1.00692923, 0.90926863, 0.81882897,\n",
       "       0.73536243, 0.65862405, 0.58836152, 0.52430739, 0.46616921,\n",
       "       0.41350721, 0.36397318, 0.31407203, 0.26900222, 0.22993396,\n",
       "       0.1962592 , 0.16732983, 0.14254724, 0.12136709, 0.10329971,\n",
       "       0.08790912, 0.07481103, 0.06367024, 0.0541975 , 0.04614543,\n",
       "       0.03930353, 0.03349242]) <Unit('kilogram / meter ** 3')>"
      ]
     },
     "execution_count": 23,
     "metadata": {},
     "output_type": "execute_result"
    }
   ],
   "source": [
    "rho(alt).to_base_units()"
   ]
  },
  {
   "cell_type": "code",
   "execution_count": 24,
   "id": "c670e95b",
   "metadata": {},
   "outputs": [],
   "source": [
    "rhooa = rho(alt)\n",
    "rhooa = rhooa/rho_SL"
   ]
  },
  {
   "cell_type": "markdown",
   "id": "26071a84",
   "metadata": {},
   "source": [
    "## Speed of Sound vs Altitude"
   ]
  },
  {
   "cell_type": "markdown",
   "id": "80b69e84",
   "metadata": {},
   "source": [
    "The speed of sound is calculated using this formula:\n",
    "    \n",
    "\\begin{equation}\n",
    "a= \\sqrt{\\gamma RT}\n",
    "\\end{equation}"
   ]
  },
  {
   "cell_type": "code",
   "execution_count": 25,
   "id": "8c4e95d2",
   "metadata": {},
   "outputs": [],
   "source": [
    "gamma = 1.4\n",
    "def sos(z):\n",
    "    temp = T(z)\n",
    "    res = np.sqrt(gamma*Rgas*temp)\n",
    "    return res"
   ]
  },
  {
   "cell_type": "code",
   "execution_count": 26,
   "id": "539c1ebf",
   "metadata": {},
   "outputs": [],
   "source": [
    "sosoa = sos(alt).to_base_units()"
   ]
  },
  {
   "cell_type": "code",
   "execution_count": 27,
   "id": "918fb1f9",
   "metadata": {},
   "outputs": [],
   "source": [
    "aoasl = sosoa/a_SL"
   ]
  },
  {
   "cell_type": "code",
   "execution_count": 28,
   "id": "277d2912",
   "metadata": {
    "scrolled": true
   },
   "outputs": [
    {
     "name": "stderr",
     "output_type": "stream",
     "text": [
      "/Users/rblack/_dev/mmqprop/.venv/lib/python3.10/site-packages/matplotlib/cbook/__init__.py:1369: UnitStrippedWarning: The unit of the quantity is stripped when downcasting to ndarray.\n",
      "  return np.asarray(x, float)\n"
     ]
    },
    {
     "data": {
      "text/plain": [
       "<matplotlib.legend.Legend at 0x114363f40>"
      ]
     },
     "execution_count": 28,
     "metadata": {},
     "output_type": "execute_result"
    },
    {
     "data": {
      "image/png": "[encoded data removed]",
      "text/plain": [
       "<Figure size 640x480 with 1 Axes>"
      ]
     },
     "metadata": {},
     "output_type": "display_data"
    }
   ],
   "source": [
    "plt.plot(popsl,alt)\n",
    "plt.ylabel(\"z(km)\")\n",
    "plt.plot(totsl, alt, label=r\"$p/p_{sl}$\")\n",
    "plt.plot(muoa/mu_SL,alt, label=r\"$\\mu/\\mu_{sl}$\")\n",
    "plt.plot(rhooa,alt, label = r\"$\\rho/\\rho_{sl}$\")\n",
    "plt.plot(aoasl,alt, label = r\"$a/a_{sl}$\")\n",
    "plt.legend()"
   ]
  },
  {
   "cell_type": "markdown",
   "id": "f965696b",
   "metadata": {},
   "source": [
    "That plot looks like the figure presented in Drela's book."
   ]
  },
  {
   "cell_type": "markdown",
   "id": "83ac3b33",
   "metadata": {},
   "source": [
    "All of this code has been placed in a single class names *StdATm* which takes an altitude in meters, and returns the properties as a dictionary. We can nhand this function a ((numpy** array of altitudes is needed.)) "
   ]
  },
  {
   "cell_type": "code",
   "execution_count": 29,
   "id": "65de0dce",
   "metadata": {},
   "outputs": [],
   "source": [
    "import sys\n",
    "import os\n",
    "sys.path.insert(0, '../../..')\n",
    "from mmqprop.StdAtm import StdAtm"
   ]
  },
  {
   "cell_type": "code",
   "execution_count": 31,
   "id": "6511e77d",
   "metadata": {},
   "outputs": [
    {
     "data": {
      "text/html": [
       "<table><tbody><tr><th>Magnitude</th><td style='text-align:left;'><pre>[340.28635940924806 336.4264294017341 332.52169613425247 328.5705622845788<br> 324.57133329995617 320.5222089073897 316.4212737383203 312.26648926341744<br> 308.055748153634 303.78859849338033 299.51085848795657 296.05485874338723<br> 295.2200783201163 295.189861971932 295.2092151466604 295.2377376573878<br> 295.2767797656028 295.3306529215055 295.4056689407437 295.5107644171532<br> 295.6581078131648 295.8631938025201 296.1437229133886 296.51673058968044<br> 296.9945254426535 297.58154863744613 298.27434839820313]</pre></td></tr><tr><th>Units</th><td style='text-align:left;'>meter/second</td></tr></tbody></table>"
      ],
      "text/latex": [
       "$\\begin{pmatrix}340.28635940924806 & 336.4264294017341 & 332.52169613425247 & 328.5705622845788 & 324.57133329995617 & 320.5222089073897 & 316.4212737383203 & 312.26648926341744 & 308.055748153634 & 303.78859849338033 & 299.51085848795657 & 296.05485874338723 & 295.2200783201163 & 295.189861971932 & 295.2092151466604 & 295.2377376573878 & 295.2767797656028 & 295.3306529215055 & 295.4056689407437 & 295.5107644171532 & 295.6581078131648 & 295.8631938025201 & 296.1437229133886 & 296.51673058968044 & 296.9945254426535 & 297.58154863744613 & 298.27434839820313\\end{pmatrix}\\ \\frac{\\mathrm{meter}}{\\mathrm{second}}$"
      ],
      "text/plain": [
       "array([340.28635941, 336.4264294 , 332.52169613, 328.57056228,\n",
       "       324.5713333 , 320.52220891, 316.42127374, 312.26648926,\n",
       "       308.05574815, 303.78859849, 299.51085849, 296.05485874,\n",
       "       295.22007832, 295.18986197, 295.20921515, 295.23773766,\n",
       "       295.27677977, 295.33065292, 295.40566894, 295.51076442,\n",
       "       295.65810781, 295.8631938 , 296.14372291, 296.51673059,\n",
       "       296.99452544, 297.58154864, 298.2743484 ]) <Unit('meter / second')>"
      ]
     },
     "execution_count": 31,
     "metadata": {},
     "output_type": "execute_result"
    }
   ],
   "source": [
    "s = StdAtm(u,alt)\n",
    "s.properties().to_base_units()"
   ]
  },
  {
   "cell_type": "markdown",
   "id": "0306bff9",
   "metadata": {},
   "source": [
    "```{eval-rst}\n",
    "..literalinclude::  ../../mmqprop/StdAtm.py\n",
    "```"
   ]
  },
  {
   "cell_type": "code",
   "execution_count": null,
   "id": "a56253ce",
   "metadata": {},
   "outputs": [],
   "source": []
  }
 ],
 "metadata": {
  "kernelspec": {
   "display_name": "Python 3 (ipykernel)",
   "language": "python",
   "name": "python3"
  },
  "language_info": {
   "codemirror_mode": {
    "name": "ipython",
    "version": 3
   },
   "file_extension": ".py",
   "mimetype": "text/x-python",
   "name": "python",
   "nbconvert_exporter": "python",
   "pygments_lexer": "ipython3",
   "version": "3.10.8"
  },
  "toc": {
   "base_numbering": 1,
   "nav_menu": {},
   "number_sections": true,
   "sideBar": true,
   "skip_h1_title": false,
   "title_cell": "Table of Contents",
   "title_sidebar": "Contents",
   "toc_cell": false,
   "toc_position": {},
   "toc_section_display": true,
   "toc_window_display": false
  },
  "varInspector": {
   "cols": {
    "lenName": 16,
    "lenType": 16,
    "lenVar": 40
   },
   "kernels_config": {
    "python": {
     "delete_cmd_postfix": "",
     "delete_cmd_prefix": "del ",
     "library": "var_list.py",
     "varRefreshCmd": "print(var_dic_list())"
    },
    "r": {
     "delete_cmd_postfix": ") ",
     "delete_cmd_prefix": "rm(",
     "library": "var_list.r",
     "varRefreshCmd": "cat(var_dic_list()) "
    }
   },
   "types_to_exclude": [
    "module",
    "function",
    "builtin_function_or_method",
    "instance",
    "_Feature"
   ],
   "window_display": false
  }
 },
 "nbformat": 4,
 "nbformat_minor": 5
}
