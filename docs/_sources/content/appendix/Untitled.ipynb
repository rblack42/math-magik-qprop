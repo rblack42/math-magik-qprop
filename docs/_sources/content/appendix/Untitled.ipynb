{
 "cells": [
  {
   "cell_type": "markdown",
   "id": "ccfff0a4",
   "metadata": {},
   "source": [
    "# Standard Atmosphere"
   ]
  },
  {
   "cell_type": "markdown",
   "id": "0998bf34",
   "metadata": {},
   "source": [
    "Aerodynamic analyses need various air properties to do the calculations. The standard way to come up with thoseproperties is to use the *Standard Atmosphere* model, published in 1976. There is a *Python* package that provides access to this model, but for our purposes, I will use methods defined in Mark Drela's *Flight Vehicle Aerodynamics*{cite}`drela2014`."
   ]
  },
  {
   "cell_type": "markdown",
   "id": "689b4f04",
   "metadata": {},
   "source": [
    "To get started with this model, we need to define the properties at sea-level. Each of these properties has engineering units attached to the number. It is critical that these units be consistent in calculations, so we will use the *Python* **pint** package to add these units to the data."
   ]
  },
  {
   "cell_type": "code",
   "execution_count": 2,
   "id": "cd2310db",
   "metadata": {},
   "outputs": [],
   "source": [
    "import pint"
   ]
  },
  {
   "cell_type": "code",
   "execution_count": 3,
   "id": "5665942f",
   "metadata": {},
   "outputs": [],
   "source": [
    "u = pint.UnitRegistry()"
   ]
  },
  {
   "cell_type": "code",
   "execution_count": 4,
   "id": "0958e3bb",
   "metadata": {},
   "outputs": [
    {
     "data": {
      "text/html": [
       "1.225 kilogram/meter<sup>3</sup>"
      ],
      "text/latex": [
       "$1.225\\ \\frac{\\mathrm{kilogram}}{\\mathrm{meter}^{3}}$"
      ],
      "text/plain": [
       "1.225 <Unit('kilogram / meter ** 3')>"
      ]
     },
     "execution_count": 4,
     "metadata": {},
     "output_type": "execute_result"
    }
   ],
   "source": [
    "rho_SL = 1.225*u.kg/u.m**3\n",
    "rho_SL"
   ]
  },
  {
   "cell_type": "code",
   "execution_count": 5,
   "id": "b9a8d109",
   "metadata": {},
   "outputs": [
    {
     "data": {
      "text/html": [
       "101320.0 pascal"
      ],
      "text/latex": [
       "$101320.0\\ \\mathrm{pascal}$"
      ],
      "text/plain": [
       "101320.0 <Unit('pascal')>"
      ]
     },
     "execution_count": 5,
     "metadata": {},
     "output_type": "execute_result"
    }
   ],
   "source": [
    "p_SL = 1.0132e5*u.pascal\n",
    "p_SL"
   ]
  },
  {
   "cell_type": "code",
   "execution_count": 6,
   "id": "896a308d",
   "metadata": {},
   "outputs": [
    {
     "data": {
      "text/html": [
       "288.15 kelvin"
      ],
      "text/latex": [
       "$288.15\\ \\mathrm{kelvin}$"
      ],
      "text/plain": [
       "288.15 <Unit('kelvin')>"
      ]
     },
     "execution_count": 6,
     "metadata": {},
     "output_type": "execute_result"
    }
   ],
   "source": [
    "T_SL = 288.15*u.kelvin\n",
    "T_SL"
   ]
  },
  {
   "cell_type": "markdown",
   "id": "048ca874",
   "metadata": {},
   "source": [
    "a_SL = 340.3*u.m/u.sec\n",
    "a_SL"
   ]
  },
  {
   "cell_type": "code",
   "execution_count": 9,
   "id": "151d2427",
   "metadata": {
    "cell_style": "split"
   },
   "outputs": [
    {
     "data": {
      "text/html": [
       "1.79×10<sup>-5</sup> kilogram/(meter second)"
      ],
      "text/latex": [
       "$1.79\\times 10^{-5}\\ \\frac{\\mathrm{kilogram}}{\\left(\\mathrm{meter} \\cdot \\mathrm{second}\\right)}$"
      ],
      "text/plain": [
       "1.79e-05 <Unit('kilogram / meter / second')>"
      ]
     },
     "execution_count": 9,
     "metadata": {},
     "output_type": "execute_result"
    }
   ],
   "source": [
    "mu_SL = 1.79e-5*u.kg/(u.m*u.sec)\n",
    "mu_SL"
   ]
  },
  {
   "cell_type": "code",
   "execution_count": null,
   "id": "8d76c9a6",
   "metadata": {},
   "outputs": [],
   "source": []
  }
 ],
 "metadata": {
  "kernelspec": {
   "display_name": "Python 3 (ipykernel)",
   "language": "python",
   "name": "python3"
  },
  "language_info": {
   "codemirror_mode": {
    "name": "ipython",
    "version": 3
   },
   "file_extension": ".py",
   "mimetype": "text/x-python",
   "name": "python",
   "nbconvert_exporter": "python",
   "pygments_lexer": "ipython3",
   "version": "3.10.8"
  },
  "toc": {
   "base_numbering": 1,
   "nav_menu": {},
   "number_sections": true,
   "sideBar": true,
   "skip_h1_title": false,
   "title_cell": "Table of Contents",
   "title_sidebar": "Contents",
   "toc_cell": false,
   "toc_position": {},
   "toc_section_display": true,
   "toc_window_display": false
  },
  "varInspector": {
   "cols": {
    "lenName": 16,
    "lenType": 16,
    "lenVar": 40
   },
   "kernels_config": {
    "python": {
     "delete_cmd_postfix": "",
     "delete_cmd_prefix": "del ",
     "library": "var_list.py",
     "varRefreshCmd": "print(var_dic_list())"
    },
    "r": {
     "delete_cmd_postfix": ") ",
     "delete_cmd_prefix": "rm(",
     "library": "var_list.r",
     "varRefreshCmd": "cat(var_dic_list()) "
    }
   },
   "types_to_exclude": [
    "module",
    "function",
    "builtin_function_or_method",
    "instance",
    "_Feature"
   ],
   "window_display": false
  }
 },
 "nbformat": 4,
 "nbformat_minor": 5
}
