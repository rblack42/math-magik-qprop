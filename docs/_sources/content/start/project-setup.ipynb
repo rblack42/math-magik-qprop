{
 "cells": [
  {
   "cell_type": "markdown",
   "id": "9d559420",
   "metadata": {},
   "source": [
    "# Project Setup"
   ]
  },
  {
   "cell_type": "markdown",
   "id": "4fba626c",
   "metadata": {},
   "source": [
    "We begin all *Python* applications by coming up with a program name. This name becomes the name of a single directory somewhere on your development system. Under that directory we will keep everything needed to recreate this program on another machine.\n",
    "\n",
    "We will manage that directory using a very popular *Source Code Control System* called *Git*. This tool tracks all changes to your project and lets you \"back up\" if you manage to break the project. No self-respecting developer works without using a tool like *Git* today!\n",
    "\n",
    "We will host a copy of the project directory on a public server: *Github*. This site is home to literally millions of open-source* projects as well as some private projects not visible except to registered users. *Github* is free, and all you need to do to use it is to navigate to their [Github website](https://github.com) and register. You will be asked to pick a user name which will become part of the URL you use to reach your projecta. My *Github* user name is **rblack42**. At the present time I have over 100 projects hosted there, as well as a huge number of student projects from my teaching days! (I do pay a subscription fee to let me keep student work private.)"
   ]
  },
  {
   "cell_type": "markdown",
   "id": "c78f9566",
   "metadata": {},
   "source": [
    "## Verify Development Tools are in place"
   ]
  },
  {
   "cell_type": "markdown",
   "id": "056486ba",
   "metadata": {},
   "source": [
    "Let's start off by verifying that we have the basic tools we will need, ready to go. Details on installing these tools is included in the [appendix](../appendix/installing-basic-tools.ipynb). I will show how I check this on the *Macbook* laptop I use for development work:"
   ]
  },
  {
   "cell_type": "markdown",
   "id": "483614a7",
   "metadata": {},
   "source": [
    "### Python\n",
    "\n",
    "*Python* is a very popular programming language for beginners. I taught this to beginning college students for many years. You can see an example of my course notes at [COSC1336 Lecture notes](http://www.co-pylit.org/courses/cosc1336). (No, you cannot get credit for taking this course, I am retired10"
   ]
  },
  {
   "cell_type": "code",
   "execution_count": 3,
   "id": "f086c2c3",
   "metadata": {},
   "outputs": [
    {
     "name": "stdout",
     "output_type": "stream",
     "text": [
      "Python 3.10.8\r\n"
     ]
    }
   ],
   "source": [
    "!python --version"
   ]
  },
  {
   "cell_type": "markdown",
   "id": "40bc9800",
   "metadata": {},
   "source": [
    "### Git\n",
    "\n",
    "I use *Git* to track changes to all of my software development projects. When combined with an account on *Github* you have a reliable way to protect your code and make it available to collaborators who might want to join you in your development work."
   ]
  },
  {
   "cell_type": "code",
   "execution_count": 4,
   "id": "8454cbef",
   "metadata": {},
   "outputs": [
    {
     "name": "stdout",
     "output_type": "stream",
     "text": [
      "git version 2.37.1 (Apple Git-137.1)\r\n"
     ]
    }
   ],
   "source": [
    "!git --version"
   ]
  },
  {
   "cell_type": "markdown",
   "id": "5e7a9540",
   "metadata": {},
   "source": [
    "### Programmer's Editor\n",
    "\n",
    "My favorite editor for all text writing, but especially for writing software code is *Vim*. It has been around longer that the personal computer. It was originally developed back when computers only had command line interfaces. No mice anywhere! Feel free to install any editor you like. Just make sure it produces simple text output. Do **NOT** not use something fancy like a word processor."
   ]
  },
  {
   "cell_type": "code",
   "execution_count": 5,
   "id": "55ce227c",
   "metadata": {},
   "outputs": [
    {
     "name": "stdout",
     "output_type": "stream",
     "text": [
      "VIM - Vi IMproved 9.0 (2022 Jun 28, compiled Sep 15 2022 19:27:32)\r\n",
      "macOS version - x86_64\r\n",
      "Included patches: 1-472\r\n",
      "Compiled by GitHub Actions\r\n",
      "Huge version with MacVim GUI.  Features included (+) or not (-):\r\n",
      "+acl               +find_in_path      +mouse_xterm       -tcl\r\n",
      "+arabic            +float             +multi_byte        +termguicolors\r\n",
      "+autocmd           +folding           +multi_lang        +terminal\r\n",
      "+autochdir         -footer            -mzscheme          +terminfo\r\n",
      "-autoservername    +fork()            +netbeans_intg     +termresponse\r\n",
      "+balloon_eval      +fullscreen        +num64             +textobjects\r\n",
      "+balloon_eval_term +gettext           +odbeditor         +textprop\r\n",
      "+browse            -hangul_input      +packages          +timers\r\n",
      "++builtin_terms    +iconv             +path_extra        +title\r\n",
      "+byte_offset       +insert_expand     +perl/dyn          +toolbar\r\n",
      "+channel           +ipv6              +persistent_undo   +transparency\r\n",
      "+cindent           +job               +popupwin          +user_commands\r\n",
      "+clientserver      +jumplist          +postscript        +vartabs\r\n",
      "+clipboard         +keymap            +printer           +vertsplit\r\n",
      "+cmdline_compl     +lambda            +profile           +vim9script\r\n",
      "+cmdline_hist      +langmap           +python/dyn        +viminfo\r\n",
      "+cmdline_info      +libcall           +python3/dyn       +virtualedit\r\n",
      "+comments          +linebreak         +quickfix          +visual\r\n",
      "+conceal           +lispindent        +reltime           +visualextra\r\n",
      "+cryptv            +listcmds          +rightleft         +vreplace\r\n",
      "+cscope            +localmap          +ruby/dyn          +wildignore\r\n",
      "+cursorbind        +lua/dyn           +scrollbind        +wildmenu\r\n",
      "+cursorshape       +menu              +signs             +windows\r\n",
      "+dialog_con_gui    +mksession         +smartindent       +writebackup\r\n",
      "+diff              +modify_fname      +sodium            -X11\r\n",
      "+digraphs          +mouse             -sound             -xfontset\r\n",
      "+dnd               +mouseshape        +spell             +xim\r\n",
      "-ebcdic            +mouse_dec         +startuptime       -xpm\r\n",
      "+emacs_tags        -mouse_gpm         +statusline        -xsmp\r\n",
      "+eval              -mouse_jsbterm     -sun_workshop      -xterm_clipboard\r\n",
      "+ex_extra          +mouse_netterm     +syntax            -xterm_save\r\n",
      "+extra_search      +mouse_sgr         +tag_binary        \r\n",
      "-farsi             -mouse_sysmouse    -tag_old_static    \r\n",
      "+file_in_path      +mouse_urxvt       -tag_any_white     \r\n",
      "   system vimrc file: \"$VIM/vimrc\"\r\n",
      "     user vimrc file: \"$HOME/.vimrc\"\r\n",
      " 2nd user vimrc file: \"~/.vim/vimrc\"\r\n",
      "      user exrc file: \"$HOME/.exrc\"\r\n",
      "  system gvimrc file: \"$VIM/gvimrc\"\r\n",
      "    user gvimrc file: \"$HOME/.gvimrc\"\r\n",
      "2nd user gvimrc file: \"~/.vim/gvimrc\"\r\n",
      "       defaults file: \"$VIMRUNTIME/defaults.vim\"\r\n",
      "    system menu file: \"$VIMRUNTIME/menu.vim\"\r\n",
      "  fall-back for $VIM: \"/Applications/MacVim.app/Contents/Resources/vim\"\r\n",
      "Compilation: clang -c -I. -Iproto -DHAVE_CONFIG_H -DFEAT_GUI_MACVIM -Wall -Wno-unknown-pragmas -pipe -DMACOS_X -DMACOS_X_DARWIN -g -O2 -arch x86_64 -arch arm64 -I/usr/local/Cellar/libsodium/1.0.18_1/include -D_REENTRANT -U_FORTIFY_SOURCE -D_FORTIFY_SOURCE=1 -Wall -Wextra -Wshadow -Werror -Wno-error=missing-field-initializers -Wno-error=deprecated-declarations -Wno-error=unused-function \r\n",
      "Linking: clang -L. -fstack-protector-strong -L/usr/local/lib -L/usr/local/opt/libyaml/lib -L/usr/local/opt/openssl@1.1/lib -L/usr/local/opt/readline/lib -L. -fstack-protector-strong -L/usr/local/lib -L/usr/local/opt/libyaml/lib -L/usr/local/opt/openssl@1.1/lib -L/usr/local/opt/readline/lib -arch x86_64 -arch arm64 -L/usr/local/lib -o Vim -lm -lncurses /usr/local/lib/libsodium.a -liconv /usr/local/lib/libintl.a -framework AppKit -fstack-protector -L/System/Library/Perl/5.18/darwin-thread-multi-2level/CORE \r\n"
     ]
    }
   ],
   "source": [
    "!vim --version"
   ]
  },
  {
   "cell_type": "markdown",
   "id": "18cc36bd",
   "metadata": {},
   "source": [
    "That is a lot of output. This program has many features for serious development work, and it can even be extended using *Python* to teach it new tricks."
   ]
  },
  {
   "cell_type": "code",
   "execution_count": null,
   "id": "6e417ae6",
   "metadata": {},
   "outputs": [],
   "source": []
  }
 ],
 "metadata": {
  "kernelspec": {
   "display_name": "Python 3 (ipykernel)",
   "language": "python",
   "name": "python3"
  },
  "language_info": {
   "codemirror_mode": {
    "name": "ipython",
    "version": 3
   },
   "file_extension": ".py",
   "mimetype": "text/x-python",
   "name": "python",
   "nbconvert_exporter": "python",
   "pygments_lexer": "ipython3",
   "version": "3.10.8"
  },
  "toc": {
   "base_numbering": 1,
   "nav_menu": {},
   "number_sections": true,
   "sideBar": true,
   "skip_h1_title": false,
   "title_cell": "Table of Contents",
   "title_sidebar": "Contents",
   "toc_cell": false,
   "toc_position": {},
   "toc_section_display": true,
   "toc_window_display": false
  },
  "varInspector": {
   "cols": {
    "lenName": 16,
    "lenType": 16,
    "lenVar": 40
   },
   "kernels_config": {
    "python": {
     "delete_cmd_postfix": "",
     "delete_cmd_prefix": "del ",
     "library": "var_list.py",
     "varRefreshCmd": "print(var_dic_list())"
    },
    "r": {
     "delete_cmd_postfix": ") ",
     "delete_cmd_prefix": "rm(",
     "library": "var_list.r",
     "varRefreshCmd": "cat(var_dic_list()) "
    }
   },
   "types_to_exclude": [
    "module",
    "function",
    "builtin_function_or_method",
    "instance",
    "_Feature"
   ],
   "window_display": false
  }
 },
 "nbformat": 4,
 "nbformat_minor": 5
}
